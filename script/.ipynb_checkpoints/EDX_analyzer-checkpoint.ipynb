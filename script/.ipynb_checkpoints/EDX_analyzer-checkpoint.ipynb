{
 "cells": [
  {
   "cell_type": "markdown",
   "id": "f0f93518",
   "metadata": {},
   "source": [
    "# Analysis of EDX file"
   ]
  },
  {
   "cell_type": "code",
   "execution_count": 3,
   "id": "88beaaed",
   "metadata": {},
   "outputs": [],
   "source": [
    "#!/usr/bin/env python\n",
    "# coding: utf-8\n",
    "\n",
    "import re\n",
    "import numpy as np\n",
    "import pandas as pd\n",
    "import matplotlib.pyplot as plt\n",
    "import os\n",
    "import shutil\n",
    "from scipy.signal import savgol_filter\n",
    "import math\n",
    "\n",
    "from scipy.signal import find_peaks\n",
    "from scipy.optimize import curve_fit\n",
    "\n",
    "from docx import Document\n",
    "from docx.shared import Inches\n",
    "from docx.oxml import OxmlElement\n",
    "from docx.oxml.ns import qn\n",
    "\n",
    "import warnings\n",
    "warnings.simplefilter(action='ignore', category=FutureWarning)\n",
    "\n",
    "# Functions\n",
    "\n",
    "def cm_to_inch(cm):\n",
    "    inch=float(cm/2.54)\n",
    "    return inch\n",
    "\n",
    "def AgCl_to_RHE(V_AgCl,pH,ref):\n",
    "    if ref == \"Ag/AgCl\":\n",
    "        V_RHE=+0.197+V_AgCl+0.059*pH\n",
    "        return V_RHE"
   ]
  },
  {
   "cell_type": "code",
   "execution_count": 4,
   "id": "eadc56b0",
   "metadata": {},
   "outputs": [
    {
     "name": "stdout",
     "output_type": "stream",
     "text": [
      "Enter the catalyst name (e.g., CuO):\n",
      "CuO\n"
     ]
    }
   ],
   "source": [
    "# Ask the user for inputs\n",
    "cat = input(\"Enter the catalyst name (e.g., CuO):\\n\").strip()"
   ]
  },
  {
   "cell_type": "code",
   "execution_count": 6,
   "id": "580f1ea5",
   "metadata": {},
   "outputs": [],
   "source": [
    "# Read the content of the file\n",
    "\n",
    "# Initialize input\n",
    "url_EDX = f\"https://raw.githubusercontent.com/FedeDat/SuPERCO2/main/data/{cat}/characterization/EDX.csv\"\n",
    "\n",
    "data_EDX = pd.read_csv(url_EDX, usecols=lambda column: pd.notnull(column))\n",
    "data_EDX.dropna(axis=1, how='all', inplace=True)\n",
    "\n",
    "#Calculate ratio between metal and oxygen\n",
    "\n",
    "data_EDX[''+str(data_EDX.columns[0])+'/'+str(data_EDX.columns[1])+'']=data_EDX[data_EDX.columns[0]]/data_EDX[data_EDX.columns[1]]\n",
    "\n",
    "data_EDX.index=list(range(1, len(data_EDX)+1))\n",
    "\n",
    "ax1 = data_EDX.iloc[:,:-1].plot(kind='bar', stacked=True, figsize=(cm_to_inch(10), cm_to_inch(8)))\n",
    "plt.legend(loc='upper center')\n",
    "\n",
    "ax2 = ax1.twinx()  # Create a second y-axis\n",
    "ax2.plot(data_EDX.index-1, data_EDX[data_EDX.columns[-1]], linestyle='None', marker='o', markersize=8, markerfacecolor='red', markeredgecolor='black')\n",
    "\n",
    "# Adding titles and labels\n",
    "ax1.set_xticklabels(list(range(1, len(data_EDX)+1)), rotation=0, ha='right')\n",
    "\n",
    "ax1.set_title('Atomic content')\n",
    "ax1.set_xlabel('Site')\n",
    "ax1.set_ylabel('Content (At.%)')\n",
    "\n",
    "ax2.yaxis.label.set_color('red')  # Change the y-axis label color\n",
    "ax2.spines['right'].set_color('red')  # Change the spine color to red\n",
    "ax2.tick_params(axis='y', colors='red')  # Change the tick color to red\n",
    "\n",
    "ax2.set_ylabel(''+str(data_EDX.columns[0])+'/'+str(data_EDX.columns[1])+' ratio')\n",
    "\n",
    "ax1.set_ylim(0, 100)\n",
    "ax2.set_ylim(0, 1)\n",
    "\n",
    "# Display the plot\n",
    "plt.tight_layout()  # Adjust layout\n",
    "\n",
    "plt.savefig('EDX.png', format='png', dpi=300, transparent=True, bbox_inches='tight')\n",
    "\n",
    "plt.close()\n",
    "\n",
    "data_EDX.to_excel('EDX_analysed.xlsx', index=False)"
   ]
  }
 ],
 "metadata": {
  "kernelspec": {
   "display_name": "Python 3 (ipykernel)",
   "language": "python",
   "name": "python3"
  },
  "language_info": {
   "codemirror_mode": {
    "name": "ipython",
    "version": 3
   },
   "file_extension": ".py",
   "mimetype": "text/x-python",
   "name": "python",
   "nbconvert_exporter": "python",
   "pygments_lexer": "ipython3",
   "version": "3.9.13"
  }
 },
 "nbformat": 4,
 "nbformat_minor": 5
}
